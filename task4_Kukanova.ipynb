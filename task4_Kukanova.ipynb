{
 "cells": [
  {
   "cell_type": "markdown",
   "metadata": {},
   "source": [
    "# Анастасия Куканова, A3200\n",
    "## Задание 4. Random Forest\n",
    "\n",
    "### Исходный код"
   ]
  },
  {
   "cell_type": "code",
   "execution_count": 65,
   "metadata": {
    "collapsed": true,
    "run_control": {
     "frozen": false,
     "read_only": false
    }
   },
   "outputs": [],
   "source": [
    "% matplotlib inline\n",
    "\n",
    "from collections import Counter\n",
    "import math\n",
    "import matplotlib.pyplot as plt\n",
    "import numpy as np\n",
    "from random import choice, shuffle\n",
    "from sklearn import datasets, ensemble"
   ]
  },
  {
   "cell_type": "markdown",
   "metadata": {},
   "source": [
    "#### Реализация метрик"
   ]
  },
  {
   "cell_type": "code",
   "execution_count": 9,
   "metadata": {
    "collapsed": true,
    "run_control": {
     "frozen": false,
     "read_only": false
    }
   },
   "outputs": [],
   "source": [
    "class ProbabilityCounter(Counter):\n",
    "    def __init__(self, *args, **kwargs):\n",
    "        super().__init__(*args, **kwargs)\n",
    "\n",
    "    def probabilities(self):\n",
    "        total = sum(self.values())\n",
    "        return dict(zip(self.keys(), map(lambda v: v / total, self.values())))\n",
    "\n",
    "    def most_probable(self):\n",
    "        return self.most_common(1)[0][0]\n",
    "\n",
    "\n",
    "def gini(Y):\n",
    "    if len(Y):\n",
    "        probabilities = ProbabilityCounter(Y).probabilities()\n",
    "        return 1 - sum(map(lambda k: probabilities[k] ** 2, probabilities))\n",
    "    else:\n",
    "        return -1\n",
    "\n",
    "\n",
    "def entropy(Y):\n",
    "    if len(Y):\n",
    "        probabilities = ProbabilityCounter(Y).probabilities()\n",
    "        return -sum(map(lambda k: probabilities[k] * math.log2(probabilities[k]), probabilities))\n",
    "    else:\n",
    "        return -1"
   ]
  },
  {
   "cell_type": "markdown",
   "metadata": {},
   "source": [
    "#### Реализация CART"
   ]
  },
  {
   "cell_type": "code",
   "execution_count": 10,
   "metadata": {
    "collapsed": true,
    "run_control": {
     "frozen": false,
     "read_only": false
    }
   },
   "outputs": [],
   "source": [
    "class Condition(object):\n",
    "    def __init__(self, i, p):\n",
    "        self.i = i\n",
    "        self.p = p\n",
    "        self.cond = lambda x: x[self.i] < self.p\n",
    "\n",
    "    def __str__(self):\n",
    "        return \"x[{}] < {}\".format(self.i, self.p)\n",
    "\n",
    "    def __call__(self, *args):\n",
    "        return self.cond(*args)\n",
    "\n",
    "\n",
    "class DecisionTree(object):\n",
    "    def __init__(self, metric=\"entropy\", min_samples_split=2):\n",
    "        if metric == \"gini\":\n",
    "            self.metric = gini\n",
    "        elif metric == \"entropy\":\n",
    "            self.metric = entropy\n",
    "        else:\n",
    "            self.metric = metric\n",
    "        self.min_samples_split = min_samples_split\n",
    "\n",
    "    def fit(self, X, Y, features=None):\n",
    "        self.conditions = self._form_conditions(X, features)\n",
    "        self.head = self._Node(self, X, Y)\n",
    "\n",
    "    def predict(self, x):\n",
    "        return self.head.predict(x).most_probable()\n",
    "\n",
    "    def predict_many(self, X):\n",
    "        return list(map(self.predict, X))\n",
    "\n",
    "    def predict_probabilities(self, x):\n",
    "        return self.head.predict(x).probabilities()\n",
    "\n",
    "    @staticmethod\n",
    "    def _form_conditions(X, cols=None):\n",
    "        if cols is None:\n",
    "            cols = range(X.shape[1])\n",
    "        conditions = []\n",
    "        for i in cols:\n",
    "            col = X[:, i]\n",
    "            points = list(set(col))\n",
    "            points.sort()\n",
    "            conditions.extend(list(map(lambda p: Condition(i, p), points)))\n",
    "        return conditions\n",
    "\n",
    "    @staticmethod\n",
    "    def _split_by_condition(X, Y, cond):\n",
    "        X_pos = []\n",
    "        X_neg = []\n",
    "        Y_pos = []\n",
    "        Y_neg = []\n",
    "        for (x, y) in zip(X, Y):\n",
    "            if cond(x):\n",
    "                X_pos.append(x)\n",
    "                Y_pos.append(y)\n",
    "            else:\n",
    "                X_neg.append(x)\n",
    "                Y_neg.append(y)\n",
    "        return (X_pos, Y_pos), (X_neg, Y_neg)\n",
    "\n",
    "    def _calculate_gains(self, X, Y):\n",
    "        m = self.metric(Y)\n",
    "        gains = []\n",
    "        for cond in self.conditions:\n",
    "            (_, Y_pos), (_, Y_neg) = self._split_by_condition(X, Y, cond)\n",
    "            gains.append(m - (len(Y_pos) * self.metric(Y_pos) + len(Y_neg) * self.metric(Y_neg)) / len(Y))\n",
    "        return gains\n",
    "\n",
    "    class _Node(object):\n",
    "        def __init__(self, tree, X, Y):\n",
    "            gains = tree._calculate_gains(X, Y)\n",
    "            max_gain = max(gains)\n",
    "            if math.isclose(max_gain, 0, abs_tol=1e-5) or len(X) < tree.min_samples_split:\n",
    "                self.is_leaf = True\n",
    "                self.result = ProbabilityCounter(Y)\n",
    "            else:\n",
    "                self.is_leaf = False\n",
    "                self.condition = list(filter(lambda p: p[1] == max_gain, zip(tree.conditions, gains)))[0][0]\n",
    "                pos, neg = tree._split_by_condition(X, Y, self.condition)\n",
    "                self.positive = tree._Node(tree, *pos)\n",
    "                self.negative = tree._Node(tree, *neg)\n",
    "\n",
    "        def predict(self, x):\n",
    "            if self.is_leaf:\n",
    "                return self.result\n",
    "            else:\n",
    "                if self.condition(x):\n",
    "                    return self.positive.predict(x)\n",
    "                else:\n",
    "                    return self.negative.predict(x)"
   ]
  },
  {
   "cell_type": "markdown",
   "metadata": {},
   "source": [
    "#### Реализация Random Forest"
   ]
  },
  {
   "cell_type": "code",
   "execution_count": 11,
   "metadata": {
    "collapsed": true,
    "run_control": {
     "frozen": false,
     "read_only": false
    }
   },
   "outputs": [],
   "source": [
    "class RandomForest(object):\n",
    "    def __init__(self, metric=\"entropy\", n_trees=10, m_features=None):\n",
    "        self.n_trees = n_trees\n",
    "        self.m_features = m_features\n",
    "        self.trees = [DecisionTree(metric) for _ in range(n_trees)]\n",
    "\n",
    "    def fit(self, X, Y):\n",
    "        for tree in self.trees:\n",
    "            rand_X = []\n",
    "            rand_Y = []\n",
    "            ind = list(range(len(X)))\n",
    "            for _ in range(len(X)):\n",
    "                i = choice(ind)\n",
    "                (x, y) = (X[i], Y[i])\n",
    "                rand_X.append(x)\n",
    "                rand_Y.append(y)\n",
    "            rand_X = np.array(rand_X)\n",
    "            rand_Y = np.array(rand_Y)\n",
    "            if self.m_features is None or self.m_features == X.shape[1]:\n",
    "                cols = None\n",
    "            else:\n",
    "                indices = list(range(X.shape[1]))\n",
    "                cols = set()\n",
    "                for _ in range(self.m_features):\n",
    "                    i = choice(indices)\n",
    "                    cols.add(i)\n",
    "                    indices.remove(i)\n",
    "            tree.fit(rand_X, rand_Y, cols)\n",
    "\n",
    "    def predict(self, x):\n",
    "        predictions = []\n",
    "        for tree in self.trees:\n",
    "            predictions.append(tree.predict(x))\n",
    "        return ProbabilityCounter(predictions).most_probable()\n",
    "\n",
    "    def predict_many(self, X):\n",
    "        return list(map(self.predict, X))"
   ]
  },
  {
   "cell_type": "markdown",
   "metadata": {},
   "source": [
    "#### CV"
   ]
  },
  {
   "cell_type": "code",
   "execution_count": 12,
   "metadata": {
    "collapsed": true,
    "run_control": {
     "frozen": false,
     "read_only": false
    }
   },
   "outputs": [],
   "source": [
    "precision = lambda y_model, y_true: sum(list(map(lambda p: 1 if p[0] == p[1] else 0, zip(y_model, y_true)))) / len(y_model)\n",
    "\n",
    "def k_fold(k, x, y, error_func, model_builder, *args, **kwargs):\n",
    "    ind = list(range(len(x)))\n",
    "    shuffle(ind)\n",
    "    cv = 0\n",
    "    q = int(len(x) / k)\n",
    "    r = len(x) % k\n",
    "    nums = []\n",
    "    for i in range(r):\n",
    "        nums.append(i * (q + 1))\n",
    "    for i in range(r, k):\n",
    "        nums.append(i * q + r)\n",
    "    nums.append(len(x))\n",
    "    for i in range(k):\n",
    "        outer_x = []\n",
    "        new_x = []\n",
    "        outer_y = []\n",
    "        new_y = []\n",
    "        for j in range(len(x)):\n",
    "            if j in range(nums[i], nums[i + 1]):\n",
    "                outer_x.append(x[ind[j]])\n",
    "                outer_y.append(y[ind[j]])\n",
    "            else:\n",
    "                new_x.append(x[ind[j]])\n",
    "                new_y.append(y[ind[j]])\n",
    "        new_x = np.array(new_x)\n",
    "        new_y = np.array(new_y)\n",
    "        outer_x = np.array(outer_x)\n",
    "        outer_y = np.array(outer_y)\n",
    "        model = model_builder(new_x, new_y, *args, **kwargs)\n",
    "        cv += error_func(model(outer_x), outer_y)\n",
    "    cv /= k\n",
    "    return cv"
   ]
  },
  {
   "cell_type": "markdown",
   "metadata": {},
   "source": [
    "#### Интерфейсы для классификаторов"
   ]
  },
  {
   "cell_type": "code",
   "execution_count": 13,
   "metadata": {
    "collapsed": true,
    "run_control": {
     "frozen": false,
     "read_only": false
    }
   },
   "outputs": [],
   "source": [
    "def build_decision_tree(X, Y, metric=\"entropy\", min_sample_split=2):\n",
    "    tree = DecisionTree(metric, min_sample_split)\n",
    "    tree.fit(X, Y)\n",
    "    return tree.predict_many\n",
    "\n",
    "\n",
    "def build_random_forest(X, Y, metric=\"entropy\", n_trees=10, m_features=None):\n",
    "    forest = RandomForest(metric, n_trees, m_features)\n",
    "    forest.fit(X, Y)\n",
    "    return forest.predict_many\n",
    "\n",
    "\n",
    "def build_sklearn_rf(X, Y, metric=\"entropy\", n_trees=10, m_features=None):\n",
    "    if m_features is None:\n",
    "        m_features = X.shape[1]\n",
    "    forest = ensemble.RandomForestClassifier(n_trees, metric, max_features=m_features)\n",
    "    forest.fit(X, Y)\n",
    "    return forest.predict"
   ]
  },
  {
   "cell_type": "markdown",
   "metadata": {},
   "source": [
    "#### Загрузка датасета"
   ]
  },
  {
   "cell_type": "code",
   "execution_count": 15,
   "metadata": {
    "collapsed": false,
    "run_control": {
     "frozen": false,
     "read_only": false
    }
   },
   "outputs": [],
   "source": [
    "iris = datasets.load_iris()\n",
    "__X__ = iris.data\n",
    "__Y__ = iris.target"
   ]
  },
  {
   "cell_type": "markdown",
   "metadata": {},
   "source": [
    "### CV и grid search для CART\n",
    "\n",
    "В качестве алгоритма кросс-валидации используем k-fold с k = 10.\n",
    "Проведем grid search для параметра `min_sample_split` (минимально необходимое число точек датасета в узле для его деления) just for fun (в задании не требуется, но почему бы и нет)."
   ]
  },
  {
   "cell_type": "code",
   "execution_count": 12,
   "metadata": {
    "collapsed": false,
    "run_control": {
     "frozen": false,
     "read_only": false
    }
   },
   "outputs": [
    {
     "name": "stdout",
     "output_type": "stream",
     "text": [
      "2 : 0.935333333333\n",
      "3 : 0.9256\n",
      "4 : 0.924666666667\n",
      "5 : 0.926933333333\n",
      "6 : 0.9368\n",
      "7 : 0.934533333333\n",
      "8 : 0.936933333333\n",
      "9 : 0.9368\n",
      "10 : 0.9388\n",
      "11 : 0.937866666667\n",
      "12 : 0.937733333333\n",
      "13 : 0.936666666667\n",
      "14 : 0.936133333333\n",
      "15 : 0.936133333333\n",
      "\n",
      "Maximum precision: 0.9388\n",
      "min_sample_split = 10\n"
     ]
    }
   ],
   "source": [
    "gs = []\n",
    "for split in range(2, 16):\n",
    "    a = np.array([k_fold(10, __X__, __Y__, precision, build_decision_tree, metric=\"entropy\", min_sample_split=split)\n",
    "                  for _ in range(50)]).mean()\n",
    "    print(split, \":\", a)\n",
    "    gs.append((a, split))\n",
    "print()\n",
    "max_precision = max(map(lambda x: x[0], gs))\n",
    "print(\"Maximum precision:\", max_precision)\n",
    "best_params = list(filter(lambda x: x[0] == max_precision, gs))\n",
    "for param in best_params:\n",
    "    print(\"min_sample_split =\", param[1])"
   ]
  },
  {
   "cell_type": "markdown",
   "metadata": {
    "collapsed": true
   },
   "source": [
    "В целом результат неплохой. Лучший результат достигается при значении `min_sample_split` = 10, но улучшение незначительное."
   ]
  },
  {
   "cell_type": "markdown",
   "metadata": {
    "collapsed": true
   },
   "source": [
    "### CV и grid search для Random Forest\n",
    "\n",
    "В качестве алгоритма кросс-валидации так же используется k-fold c k = 10."
   ]
  },
  {
   "cell_type": "code",
   "execution_count": 23,
   "metadata": {
    "collapsed": false,
    "run_control": {
     "frozen": false,
     "read_only": false
    }
   },
   "outputs": [
    {
     "name": "stdout",
     "output_type": "stream",
     "text": [
      "10 trees, 3 features : 0.938666666667\n",
      "10 trees, 4 features : 0.941333333333\n",
      "20 trees, 3 features : 0.939333333333\n",
      "20 trees, 4 features : 0.944666666667\n",
      "30 trees, 3 features : 0.947333333333\n",
      "30 trees, 4 features : 0.948\n",
      "40 trees, 3 features : 0.940666666667\n",
      "40 trees, 4 features : 0.95\n",
      "50 trees, 3 features : 0.943333333333\n",
      "50 trees, 4 features : 0.942\n"
     ]
    }
   ],
   "source": [
    "cv_data1 = []\n",
    "for n in range(10, 51, 10):\n",
    "    for m in range(3, 5):\n",
    "        a = np.array([k_fold(10, __X__, __Y__, precision, build_random_forest, metric=\"entropy\", m_features=m, n_trees=n)\n",
    "                      for _ in range(10)]).mean()\n",
    "        print(n, \"trees,\", m, \"features :\", a)\n",
    "        cv_data1.append((a, (n, m)))"
   ]
  },
  {
   "cell_type": "markdown",
   "metadata": {},
   "source": [
    "Добавим пару промежуточных точек в диапазоне с лучшими значениями метрики:"
   ]
  },
  {
   "cell_type": "code",
   "execution_count": 24,
   "metadata": {
    "collapsed": false,
    "run_control": {
     "frozen": false,
     "read_only": false
    }
   },
   "outputs": [
    {
     "name": "stdout",
     "output_type": "stream",
     "text": [
      "35 trees, 3 features : 0.944666666667\n",
      "35 trees, 4 features : 0.952666666667\n",
      "45 trees, 3 features : 0.946\n",
      "45 trees, 4 features : 0.95\n"
     ]
    }
   ],
   "source": [
    "cv_data2 = []\n",
    "for n in [35, 45]:\n",
    "    for m in [3, 4]:\n",
    "        a = np.array([k_fold(10, __X__, __Y__, precision, build_random_forest, metric=\"entropy\", m_features=m, n_trees=n)\n",
    "                      for _ in range(10)]).mean()\n",
    "        print(n, \"trees,\", m, \"features :\", a)\n",
    "        cv_data2.append((a, (n, m)))"
   ]
  },
  {
   "cell_type": "markdown",
   "metadata": {},
   "source": [
    "Следующий эксперимент проводится для наблюдения зависимости точности от количества используемых фич:"
   ]
  },
  {
   "cell_type": "code",
   "execution_count": 25,
   "metadata": {
    "collapsed": false,
    "run_control": {
     "frozen": false,
     "read_only": false
    }
   },
   "outputs": [
    {
     "name": "stdout",
     "output_type": "stream",
     "text": [
      "30 trees, 1 features : 0.916666666667\n",
      "30 trees, 2 features : 0.940666666667\n",
      "35 trees, 1 features : 0.912666666667\n",
      "35 trees, 2 features : 0.948\n",
      "40 trees, 1 features : 0.914\n",
      "40 trees, 2 features : 0.940666666667\n",
      "45 trees, 1 features : 0.914\n",
      "45 trees, 2 features : 0.943333333333\n"
     ]
    }
   ],
   "source": [
    "cv_data3 = []\n",
    "for n in [30, 35, 40, 45]:\n",
    "    for m in [1, 2]:\n",
    "        a = np.array([k_fold(10, __X__, __Y__, precision, build_random_forest, metric=\"entropy\", m_features=m, n_trees=n)\n",
    "                      for _ in range(10)]).mean()\n",
    "        print(n, \"trees,\", m, \"features :\", a)\n",
    "        cv_data.append((a, (n, m)))\n",
    "        "
   ]
  },
  {
   "cell_type": "markdown",
   "metadata": {},
   "source": [
    "#### Исследование работоспособности с экстремальными параметрами"
   ]
  },
  {
   "cell_type": "code",
   "execution_count": 26,
   "metadata": {
    "collapsed": false,
    "run_control": {
     "frozen": false,
     "read_only": false
    }
   },
   "outputs": [
    {
     "name": "stdout",
     "output_type": "stream",
     "text": [
      "150 trees, 1 features : 0.917333333333\n",
      "150 trees, 4 features : 0.946666666667\n"
     ]
    }
   ],
   "source": [
    "cv_data4 = []\n",
    "for n in [150]:\n",
    "    for m in [1, 4]:\n",
    "        a = np.array([k_fold(10, __X__, __Y__, precision, build_random_forest, metric=\"entropy\", m_features=m, n_trees=n)\n",
    "                      for _ in range(5)]).mean()\n",
    "        print(n, \"trees,\", m, \"features :\", a)\n",
    "        cv_data4.append((a, (n, m)))"
   ]
  },
  {
   "cell_type": "markdown",
   "metadata": {},
   "source": [
    "Тенденция, в общем-то, сохранилась. На одной фиче обучается плохо, на четырех хорошо. Следует отметить, что наблюдается насыщение точности: при увеличении количества деревьев в 3 раза она не возросла."
   ]
  },
  {
   "cell_type": "markdown",
   "metadata": {
    "collapsed": true
   },
   "source": [
    "### Точность в зависимости от числа деревьев и числа признаков\n",
    "\n",
    "Здесь мой ноутбук решил сходить в незапланированный ребут, поэтому результаты предыдущих экспериментов были сохранены из этого блокнота в txt-файл и подгружаются оттуда:"
   ]
  },
  {
   "cell_type": "code",
   "execution_count": 40,
   "metadata": {
    "collapsed": false,
    "run_control": {
     "frozen": false,
     "read_only": false
    }
   },
   "outputs": [],
   "source": [
    "cv_data_file = open(\"cv_data.txt\", \"r\")\n",
    "cv_data = []\n",
    "\n",
    "for line in cv_data_file:\n",
    "    splited = line.replace('\\n','').split(' ')\n",
    "    n = int(splited[0])\n",
    "    m = int(splited[2])\n",
    "    a = float(splited[5])\n",
    "    cv_data.append((a, (n, m)))\n",
    "\n",
    "cv_data_file.close()"
   ]
  },
  {
   "cell_type": "code",
   "execution_count": 66,
   "metadata": {
    "collapsed": false,
    "run_control": {
     "frozen": false,
     "read_only": false
    }
   },
   "outputs": [
    {
     "data": {
      "image/png": "[encoded data removed]",
      "text/plain": [
       "<matplotlib.figure.Figure at 0xd5b56f3908>"
      ]
     },
     "metadata": {},
     "output_type": "display_data"
    }
   ],
   "source": [
    "m_4 = list(filter(lambda t: t[1][1] == 4, cv_data))\n",
    "ns = []\n",
    "pres = []\n",
    "for t in m_4:\n",
    "    ns.append(t[1][0])\n",
    "    pres.append(t[0])\n",
    "    \n",
    "\n",
    "plt.plot(ns, pres, \"*r\", label=\"precision\")\n",
    "axes = plt.gca()\n",
    "axes.set_xlabel(\"number of trees\")\n",
    "axes.set_xlim([5,155])\n",
    "axes.set_ylim([0.93,0.96])\n",
    "plt.grid()\n",
    "plt.legend()\n",
    "plt.show()"
   ]
  },
  {
   "cell_type": "markdown",
   "metadata": {},
   "source": [
    "По моим соображениям, должен наблюдаться линейный тренд с последующим насыщением (переходом в константу). В принципе, он наблюдается, если списать погрешности на то, что средний результат кросс-валидации берется всего за 10 экспериментов из-за большого времени работы."
   ]
  },
  {
   "cell_type": "code",
   "execution_count": 67,
   "metadata": {
    "collapsed": false,
    "run_control": {
     "frozen": false,
     "read_only": false
    }
   },
   "outputs": [
    {
     "data": {
      "image/png": "[encoded data removed]",
      "text/plain": [
       "<matplotlib.figure.Figure at 0xd5b4f11c50>"
      ]
     },
     "metadata": {},
     "output_type": "display_data"
    }
   ],
   "source": [
    "filt = list(filter(lambda t: t[1][0] in [30, 35, 40, 45], cv_data))\n",
    "\n",
    "ms = [1, 2, 3, 4]\n",
    "pres = []\n",
    "for m in ms:\n",
    "    a = sum(map(lambda t: t[0], filter(lambda t: t[1][1] == m, filt)))/4\n",
    "    pres.append(a)\n",
    "\n",
    "\n",
    "plt.plot(ms, pres, \"*r\", label=\"precision\")\n",
    "axes = plt.gca()\n",
    "axes.set_xlabel(\"number of features\")\n",
    "axes.set_xlim([0.5,4.5])\n",
    "axes.set_ylim([0.91,0.96])\n",
    "plt.grid()\n",
    "plt.legend()\n",
    "plt.show()"
   ]
  },
  {
   "cell_type": "markdown",
   "metadata": {},
   "source": [
    "Наблюдается рост точности с увеличением числа признаков. Мои соображения на этот счет: фактически, алгоритм CART имеет встроенный feature selection - за счет выбора наилучшего разбиения в каждом узле получается, что малоинформативные признаки либо не используются вообще, либо используются в нижней части дерева, в области, где начинается overfit. Выбор же признаков случайным образом способен исключить наиболее информативные из рассмотрения. В силу того, что общее число признаков в датасете небольшое (4), это случается достаточно часто. Отсюда и получается, что модель, обученная на 4 признаках, всегда проявляет себя лучше."
   ]
  },
  {
   "cell_type": "markdown",
   "metadata": {},
   "source": [
    "### Сравнение с реализацией в scikit-learn и kNN"
   ]
  },
  {
   "cell_type": "code",
   "execution_count": 69,
   "metadata": {
    "collapsed": false,
    "run_control": {
     "frozen": false,
     "read_only": false
    }
   },
   "outputs": [
    {
     "name": "stdout",
     "output_type": "stream",
     "text": [
      "sklearn:\n",
      "30 trees, 4 features : 0.951133333333\n",
      "35 trees, 4 features : 0.954466666667\n",
      "40 trees, 4 features : 0.953533333333\n",
      "45 trees, 4 features : 0.952933333333\n"
     ]
    }
   ],
   "source": [
    "print(\"sklearn:\")\n",
    "cv_data_sk = []\n",
    "for n in [30, 35, 40, 45]:\n",
    "    for m in [4]:\n",
    "        a = np.array([k_fold(10, __X__, __Y__, precision, build_sklearn_rf, metric=\"entropy\", m_features=m, n_trees=n)\n",
    "                      for _ in range(100)]).mean()\n",
    "        print(n, \"trees,\", m, \"features :\", a)\n",
    "        cv_data_sk.append((a, (n, m)))\n",
    "        "
   ]
  },
  {
   "cell_type": "markdown",
   "metadata": {},
   "source": [
    "Точность результатов реализации в sklearn несколько выше, но в целом сравнима.\n",
    "\n",
    "Лучший результат kNN составил при аналогичном методе кросс-валидации составил 0.9666666666666668, что более чем на 0.01 выше."
   ]
  },
  {
   "cell_type": "markdown",
   "metadata": {},
   "source": [
    "### Соображения на тему времени работы алгоритма.\n",
    "\n",
    "Пусть $p$ - количество точек в датасете, $m$ - количество используемых признаков.\n",
    "\n",
    "Тогда для каждого дерева строится $O(mp)$ условий. Тогда выбор лучшего условия для разбиения в узле имеет сложность $O(mp^2)$, т.к. нужно проверить каждое условие на всём датасете.\n",
    "\n",
    "Предположим, в нерегуляризованном дереве получается порядка $O(log(mp))$ узлов (не могу строго обосновать, но есть ощущение, что это хорошая оценка для среднего случая). Тогда сложность обучения одного дерева составляет $O(mp^2log(mp))$.\n",
    "\n",
    "Пусть $n$ - число деревьев в RF. Тогда сложность обучения модели - $O(nmp^2log(mp))$.\n",
    "\n",
    "Наконец, пусть $k$ - параметр k-fold, используемого для оценки моделей в grid search. \n",
    "\n",
    "Тогда $O(knmp^2log(mp))$ - сложность k-fold для одной модели (одного набора параметров $(m, n)$.\n",
    "\n",
    "Очевидно, сложность высокая. Вообще, в силу того, что деревья никак не регуляризуются, время работы выходит большим, особенно реализация на Python.\n",
    "\n",
    "(Что интересно, scikit-learn позволяет строить леса регуляризованных деревьев, хотя на лекции было сказано, что для Random Forest обрезание ветвей не проводится)."
   ]
  },
  {
   "cell_type": "code",
   "execution_count": null,
   "metadata": {
    "collapsed": true,
    "run_control": {
     "frozen": false,
     "read_only": false
    }
   },
   "outputs": [],
   "source": []
  },
  {
   "cell_type": "code",
   "execution_count": null,
   "metadata": {
    "collapsed": true,
    "run_control": {
     "frozen": false,
     "read_only": false
    }
   },
   "outputs": [],
   "source": []
  }
 ],
 "metadata": {
  "hide_input": false,
  "kernelspec": {
   "display_name": "Python 3",
   "language": "python",
   "name": "python3"
  },
  "language_info": {
   "codemirror_mode": {
    "name": "ipython",
    "version": 3
   },
   "file_extension": ".py",
   "mimetype": "text/x-python",
   "name": "python",
   "nbconvert_exporter": "python",
   "pygments_lexer": "ipython3",
   "version": "3.5.2"
  }
 },
 "nbformat": 4,
 "nbformat_minor": 0
}
