{
 "cells": [
  {
   "cell_type": "markdown",
   "metadata": {},
   "source": [
    "## Анастасия Куканова, A3200\n",
    "### Задание 3. kNN\n",
    "\n",
    "#### Реализация kNN"
   ]
  },
  {
   "cell_type": "code",
   "execution_count": 1,
   "metadata": {
    "collapsed": true,
    "run_control": {
     "frozen": false,
     "read_only": false
    }
   },
   "outputs": [],
   "source": [
    "from sklearn import datasets\n",
    "from sklearn.neighbors import KNeighborsClassifier\n",
    "import numpy as np\n",
    "\n",
    "\n",
    "class KNN(object):\n",
    "    def __init__(self, k, points, classes, dist_func, weighted=False):\n",
    "        self.k = k\n",
    "        self.points = points\n",
    "        self.classes = classes\n",
    "        self.dist_func = dist_func\n",
    "        self.weighted = weighted\n",
    "\n",
    "    def classify(self, x):\n",
    "        distances = []\n",
    "        for i in range(len(self.points)):\n",
    "            distances.append((i, self.dist_func(self.points[i], x)))\n",
    "        distances.sort(key=lambda d: d[1])\n",
    "        class_counts = {}\n",
    "        k = self.k\n",
    "        while k > 0:\n",
    "            for j in range(self.k):\n",
    "                cl = self.classes[distances[j][0]]\n",
    "                with np.errstate(divide='ignore'):\n",
    "                    w = 1 / distances[j][1] if self.weighted else 1\n",
    "                if cl in class_counts:\n",
    "                    class_counts[cl] += w\n",
    "                else:\n",
    "                    class_counts[cl] = w\n",
    "            max_freq = max(list(map(lambda cl: class_counts[cl], class_counts)))\n",
    "            candidates = list(filter(lambda cl: class_counts[cl] == max_freq, class_counts))\n",
    "            if len(candidates) == 1:\n",
    "                break\n",
    "            else:\n",
    "                k -= 1\n",
    "        return candidates[0]\n",
    "\n",
    "    def classify_many(self, xs):\n",
    "        classes = list(map(self.classify, xs))\n",
    "        return classes"
   ]
  },
  {
   "cell_type": "markdown",
   "metadata": {},
   "source": [
    "#### Вспомогательный код\n",
    "\n",
    "Для кросс-валидации я решила использовать алгоритм Leave One Out, так как датасет небольшой. Он будет считать точность:"
   ]
  },
  {
   "cell_type": "code",
   "execution_count": 2,
   "metadata": {
    "collapsed": true,
    "run_control": {
     "frozen": false,
     "read_only": false
    }
   },
   "outputs": [],
   "source": [
    "def leave_one_out(x, y, error_func, model_builder, *args):\n",
    "    cv = 0\n",
    "    for i in range(len(x)):\n",
    "        outer_x = np.array([x[i]])\n",
    "        outer_y = np.array([y[i]])\n",
    "        mask = np.ones(len(x), dtype=bool)\n",
    "        mask[i] = 0\n",
    "        new_x = x[mask]\n",
    "        new_y = y[mask]\n",
    "        model = model_builder(new_x, new_y, *args)\n",
    "        cv += error_func(model(outer_x), outer_y)\n",
    "    cv /= len(x)\n",
    "    return cv\n",
    "\n",
    "acc = lambda y_model, y_true: sum(list(map(lambda p: 1 if p[0] == p[1] else 0, zip(y_model, y_true)))) / len(y_model)"
   ]
  },
  {
   "cell_type": "markdown",
   "metadata": {},
   "source": [
    "Нормализация датасета:"
   ]
  },
  {
   "cell_type": "code",
   "execution_count": 3,
   "metadata": {
    "collapsed": true,
    "run_control": {
     "frozen": false,
     "read_only": false
    }
   },
   "outputs": [],
   "source": [
    "def normalize_dataset(x):\n",
    "    for i in range(len(x[0])):\n",
    "        x[:, i] /= max(x[:, i])"
   ]
  },
  {
   "cell_type": "markdown",
   "metadata": {},
   "source": [
    "Однородные интерфейсы для моего kNN и kNN из scikit-learn:"
   ]
  },
  {
   "cell_type": "code",
   "execution_count": 4,
   "metadata": {
    "collapsed": true,
    "run_control": {
     "frozen": false,
     "read_only": false
    }
   },
   "outputs": [],
   "source": [
    "def build_knn_model(x, y, k, p, weighted=False):\n",
    "    # метрика Минковского\n",
    "    lp = lambda p: (lambda x1, x2: sum(map(lambda x: abs(x) ** p, x1 - x2)) ** (1 / p))\n",
    "    classifier = KNN(k, x, y, lp(p), weighted)\n",
    "    return classifier.classify_many\n",
    "\n",
    "\n",
    "def build_skl_knn(x, y, k, p, weighted=False):\n",
    "    w = 'distance' if weighted else 'uniform'\n",
    "    classifier = KNeighborsClassifier(k, p=p, weights=w)\n",
    "    classifier.fit(x, y)\n",
    "    return classifier.predict"
   ]
  },
  {
   "cell_type": "code",
   "execution_count": 5,
   "metadata": {
    "collapsed": true,
    "run_control": {
     "frozen": false,
     "read_only": false
    }
   },
   "outputs": [],
   "source": [
    "def compare(x, y, cv_func, k_s, k_e, p, w=False):\n",
    "    for k in range(k_s, k_e+1):\n",
    "        print(\"k =\", k)\n",
    "        print(\"me:\", leave_one_out(x, y, cv_func, build_knn_model, k, 1))\n",
    "        print(\"sk:\", leave_one_out(x, y, cv_func, build_skl_knn, k, 1))\n",
    "        print()"
   ]
  },
  {
   "cell_type": "markdown",
   "metadata": {},
   "source": [
    "#### Кросс-валидация и сравнение алгоритмов\n",
    "\n",
    "Загрузка и нормализация датасета:"
   ]
  },
  {
   "cell_type": "code",
   "execution_count": 6,
   "metadata": {
    "collapsed": true,
    "run_control": {
     "frozen": false,
     "read_only": false
    }
   },
   "outputs": [],
   "source": [
    "iris = datasets.load_iris()\n",
    "__x__ = iris.data\n",
    "__y__ = iris.target\n",
    "\n",
    "normalize_dataset(__x__)"
   ]
  },
  {
   "cell_type": "markdown",
   "metadata": {},
   "source": [
    "Манхэттенское расстояние (норма $l_1$), невзвешенный алгоритм, k от 5 до 10:"
   ]
  },
  {
   "cell_type": "code",
   "execution_count": 7,
   "metadata": {
    "collapsed": false,
    "run_control": {
     "frozen": false,
     "read_only": false
    }
   },
   "outputs": [
    {
     "name": "stdout",
     "output_type": "stream",
     "text": [
      "k = 5\n",
      "me: 0.9533333333333334\n",
      "sk: 0.9533333333333334\n",
      "\n",
      "k = 6\n",
      "me: 0.9533333333333334\n",
      "sk: 0.9533333333333334\n",
      "\n",
      "k = 7\n",
      "me: 0.9466666666666667\n",
      "sk: 0.9466666666666667\n",
      "\n",
      "k = 8\n",
      "me: 0.9533333333333334\n",
      "sk: 0.9533333333333334\n",
      "\n",
      "k = 9\n",
      "me: 0.9533333333333334\n",
      "sk: 0.9533333333333334\n",
      "\n",
      "k = 10\n",
      "me: 0.9533333333333334\n",
      "sk: 0.9533333333333334\n",
      "\n"
     ]
    }
   ],
   "source": [
    "compare(__x__, __y__, acc, 5, 10, 1)"
   ]
  },
  {
   "cell_type": "markdown",
   "metadata": {},
   "source": [
    "Манхэттенское расстояние (норма $l_1$), взвешенный алгоритм, k от 5 до 10:"
   ]
  },
  {
   "cell_type": "code",
   "execution_count": 8,
   "metadata": {
    "collapsed": false,
    "run_control": {
     "frozen": false,
     "read_only": false
    }
   },
   "outputs": [
    {
     "name": "stdout",
     "output_type": "stream",
     "text": [
      "k = 5\n",
      "me: 0.9533333333333334\n",
      "sk: 0.9533333333333334\n",
      "\n",
      "k = 6\n",
      "me: 0.9533333333333334\n",
      "sk: 0.9533333333333334\n",
      "\n",
      "k = 7\n",
      "me: 0.9466666666666667\n",
      "sk: 0.9466666666666667\n",
      "\n",
      "k = 8\n",
      "me: 0.9533333333333334\n",
      "sk: 0.9533333333333334\n",
      "\n",
      "k = 9\n",
      "me: 0.9533333333333334\n",
      "sk: 0.9533333333333334\n",
      "\n",
      "k = 10\n",
      "me: 0.9533333333333334\n",
      "sk: 0.9533333333333334\n",
      "\n"
     ]
    }
   ],
   "source": [
    "compare(__x__, __y__, acc, 5, 10, 1, True)"
   ]
  },
  {
   "cell_type": "markdown",
   "metadata": {},
   "source": [
    "Расстояние Евклида (норма $l_2$), невзвешенный алгоритм, k от 5 до 10:"
   ]
  },
  {
   "cell_type": "code",
   "execution_count": 9,
   "metadata": {
    "collapsed": false,
    "run_control": {
     "frozen": false,
     "read_only": false
    }
   },
   "outputs": [
    {
     "name": "stdout",
     "output_type": "stream",
     "text": [
      "k = 5\n",
      "me: 0.9533333333333334\n",
      "sk: 0.9533333333333334\n",
      "\n",
      "k = 6\n",
      "me: 0.9533333333333334\n",
      "sk: 0.9533333333333334\n",
      "\n",
      "k = 7\n",
      "me: 0.9466666666666667\n",
      "sk: 0.9466666666666667\n",
      "\n",
      "k = 8\n",
      "me: 0.9533333333333334\n",
      "sk: 0.9533333333333334\n",
      "\n",
      "k = 9\n",
      "me: 0.9533333333333334\n",
      "sk: 0.9533333333333334\n",
      "\n",
      "k = 10\n",
      "me: 0.9533333333333334\n",
      "sk: 0.9533333333333334\n",
      "\n"
     ]
    }
   ],
   "source": [
    "compare(__x__, __y__, acc, 5, 10, 2)"
   ]
  },
  {
   "cell_type": "markdown",
   "metadata": {},
   "source": [
    "Расстояние Евклида (норма $l_2$), взвешенный алгоритм, k от 5 до 10:"
   ]
  },
  {
   "cell_type": "code",
   "execution_count": 10,
   "metadata": {
    "collapsed": false,
    "run_control": {
     "frozen": false,
     "read_only": false
    }
   },
   "outputs": [
    {
     "name": "stdout",
     "output_type": "stream",
     "text": [
      "k = 5\n",
      "me: 0.9533333333333334\n",
      "sk: 0.9533333333333334\n",
      "\n",
      "k = 6\n",
      "me: 0.9533333333333334\n",
      "sk: 0.9533333333333334\n",
      "\n",
      "k = 7\n",
      "me: 0.9466666666666667\n",
      "sk: 0.9466666666666667\n",
      "\n",
      "k = 8\n",
      "me: 0.9533333333333334\n",
      "sk: 0.9533333333333334\n",
      "\n",
      "k = 9\n",
      "me: 0.9533333333333334\n",
      "sk: 0.9533333333333334\n",
      "\n",
      "k = 10\n",
      "me: 0.9533333333333334\n",
      "sk: 0.9533333333333334\n",
      "\n"
     ]
    }
   ],
   "source": [
    "compare(__x__, __y__, acc, 5, 10, 2, True)"
   ]
  },
  {
   "cell_type": "markdown",
   "metadata": {},
   "source": [
    "Таким образом, алгоритмы проявляют себя одинаково хорошо."
   ]
  },
  {
   "cell_type": "markdown",
   "metadata": {},
   "source": [
    "#### Grid search\n",
    "\n",
    "Будем искать наилучшие параметры модели в следующих диапазонах:\n",
    "* p (параметр метрики Минковского): от 1 до 5\n",
    "* k: от 1 до 16\n",
    "\n",
    "Так же будем сравнивать взвешенный и невзвешенный алгоритмы."
   ]
  },
  {
   "cell_type": "code",
   "execution_count": 11,
   "metadata": {
    "collapsed": false,
    "run_control": {
     "frozen": false,
     "read_only": false
    }
   },
   "outputs": [
    {
     "name": "stdout",
     "output_type": "stream",
     "text": [
      "Maximum accuracy: 0.9666666666666667\n",
      "k = 7 , p = 3 , weighted = False\n",
      "k = 7 , p = 3 , weighted = True\n"
     ]
    }
   ],
   "source": [
    "__acc__ = []\n",
    "for __p__ in range(1, 6):\n",
    "    for __k__ in range(1, 16):\n",
    "        for __w__ in [False, True]:\n",
    "            params = (__k__, __p__, __w__)\n",
    "            __acc__.append((leave_one_out(__x__, __y__, acc, build_knn_model, *params), params))\n",
    "\n",
    "max_acc = max(map(lambda x: x[0], __acc__))\n",
    "print(\"Maximum accuracy:\", max_acc)\n",
    "best_params = list(filter(lambda x: x[0] == max_acc, __acc__))\n",
    "for param_set in best_params:\n",
    "    print(\"k =\", param_set[1][0], \", p =\", param_set[1][1], \", weighted =\", param_set[1][2])"
   ]
  },
  {
   "cell_type": "markdown",
   "metadata": {},
   "source": [
    "Наилучший результат дал kNN, вычисляющий расстояния до 7 ближайших соседей по формуле $\\rho(x,y) = \\sqrt[3]{\\sum\\limits_{i=1}^{n}|x_i - y_i|^3}$ (вне зависимости от взвешенности алгоритма)."
   ]
  },
  {
   "cell_type": "code",
   "execution_count": 10,
   "metadata": {
    "collapsed": true,
    "run_control": {
     "frozen": false,
     "read_only": false
    }
   },
   "outputs": [],
   "source": [
    "from random import shuffle\n",
    "precision = lambda y_model, y_true: sum(list(map(lambda p: 1 if p[0] == p[1] else 0, zip(y_model, y_true)))) / len(y_model)\n",
    "\n",
    "def k_fold(k, x, y, error_func, model_builder, *args, **kwargs):\n",
    "    ind = list(range(len(x)))\n",
    "    shuffle(ind)\n",
    "    cv = 0\n",
    "    q = int(len(x) / k)\n",
    "    r = len(x) % k\n",
    "    nums = []\n",
    "    for i in range(r):\n",
    "        nums.append(i * (q + 1))\n",
    "    for i in range(r, k):\n",
    "        nums.append(i * q + r)\n",
    "    nums.append(len(x))\n",
    "    for i in range(k):\n",
    "        outer_x = []\n",
    "        new_x = []\n",
    "        outer_y = []\n",
    "        new_y = []\n",
    "        for j in range(len(x)):\n",
    "            if j in range(nums[i], nums[i + 1]):\n",
    "                outer_x.append(x[ind[j]])\n",
    "                outer_y.append(y[ind[j]])\n",
    "            else:\n",
    "                new_x.append(x[ind[j]])\n",
    "                new_y.append(y[ind[j]])\n",
    "        new_x = np.array(new_x)\n",
    "        new_y = np.array(new_y)\n",
    "        outer_x = np.array(outer_x)\n",
    "        outer_y = np.array(outer_y)\n",
    "        model = model_builder(new_x, new_y, *args, **kwargs)\n",
    "        cv += error_func(model(outer_x), outer_y)\n",
    "    cv /= k\n",
    "    return cv"
   ]
  },
  {
   "cell_type": "code",
   "execution_count": 11,
   "metadata": {
    "collapsed": false,
    "run_control": {
     "frozen": false,
     "read_only": false
    }
   },
   "outputs": [
    {
     "name": "stdout",
     "output_type": "stream",
     "text": [
      "Maximum accuracy: 0.9666666666666668\n",
      "k = 7 , p = 2 , weighted = False\n",
      "k = 8 , p = 2 , weighted = False\n",
      "k = 2 , p = 3 , weighted = False\n",
      "k = 6 , p = 3 , weighted = False\n",
      "k = 15 , p = 4 , weighted = True\n",
      "k = 3 , p = 5 , weighted = True\n"
     ]
    }
   ],
   "source": [
    "__acc__ = []\n",
    "for __p__ in range(1, 6):\n",
    "    for __k__ in range(1, 16):\n",
    "        for __w__ in [False, True]:\n",
    "            params = (__k__, __p__, __w__)\n",
    "            __acc__.append((k_fold(10, __x__, __y__, precision, build_knn_model, *params), params))\n",
    "\n",
    "max_acc = max(map(lambda x: x[0], __acc__))\n",
    "print(\"Maximum accuracy:\", max_acc)\n",
    "best_params = list(filter(lambda x: x[0] == max_acc, __acc__))\n",
    "for param_set in best_params:\n",
    "    print(\"k =\", param_set[1][0], \", p =\", param_set[1][1], \", weighted =\", param_set[1][2])"
   ]
  },
  {
   "cell_type": "code",
   "execution_count": null,
   "metadata": {
    "collapsed": true,
    "run_control": {
     "frozen": false,
     "read_only": false
    }
   },
   "outputs": [],
   "source": []
  }
 ],
 "metadata": {
  "hide_input": false,
  "kernelspec": {
   "display_name": "Python 3",
   "language": "python",
   "name": "python3"
  },
  "language_info": {
   "codemirror_mode": {
    "name": "ipython",
    "version": 3
   },
   "file_extension": ".py",
   "mimetype": "text/x-python",
   "name": "python",
   "nbconvert_exporter": "python",
   "pygments_lexer": "ipython3",
   "version": "3.5.2"
  }
 },
 "nbformat": 4,
 "nbformat_minor": 0
}
